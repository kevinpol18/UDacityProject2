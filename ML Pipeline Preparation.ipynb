{
 "cells": [
  {
   "cell_type": "markdown",
   "metadata": {},
   "source": [
    "# ML Pipeline Preparation\n",
    "Follow the instructions below to help you create your ML pipeline.\n",
    "### 1. Import libraries and load data from database.\n",
    "- Import Python libraries\n",
    "- Load dataset from database with [`read_sql_table`](https://pandas.pydata.org/pandas-docs/stable/generated/pandas.read_sql_table.html)\n",
    "- Define feature and target variables X and Y"
   ]
  },
  {
   "cell_type": "code",
   "execution_count": null,
   "metadata": {},
   "outputs": [],
   "source": [
    "# import libraries\n",
    "import pandas as pd\n",
    "import numpy as np\n",
    "from sqlalchemy import create_engine\n",
    "import re\n",
    "import pickle\n",
    "import nltk\n",
    "\n",
    "nltk.download('punkt')\n",
    "nltk.download('stopwords')\n",
    "\n",
    "from nltk.corpus import stopwords\n",
    "from nltk.tokenize import word_tokenize\n",
    "from nltk.stem.porter import PorterStemmer\n",
    "from sklearn.base import BaseEstimator, TransformerMixin\n",
    "from sklearn.pipeline import Pipeline, FeatureUnion\n",
    "from sklearn.feature_extraction.text import CountVectorizer, TfidfTransformer\n",
    "from sklearn.model_selection import train_test_split, GridSearchCV\n",
    "from sklearn.multioutput import MultiOutputClassifier\n",
    "from sklearn.metrics import accuracy_score, precision_score, recall_score, f1_score, make_scorer, classification_report\n",
    "from sklearn.model_selection import GridSearchCV\n",
    "from sklearn.svm import LinearSVC\n",
    "\n",
    "#set random state\n",
    "RANDOM_STATE = 42\n"
   ]
  },
  {
   "cell_type": "code",
   "execution_count": null,
   "metadata": {},
   "outputs": [],
   "source": [
    "# load data from database\n",
    "engine = create_engine('sqlite:///messages.db')\n",
    "df = pd.read_sql(\"SELECT * FROM messages\", engine)"
   ]
  },
  {
   "cell_type": "code",
   "execution_count": null,
   "metadata": {},
   "outputs": [],
   "source": [
    "df.head()"
   ]
  },
  {
   "cell_type": "code",
   "execution_count": null,
   "metadata": {},
   "outputs": [],
   "source": [
    "X = df['message']\n",
    "Y = df.drop(['id', 'message', 'original', 'genre'], axis = 1)"
   ]
  },
  {
   "cell_type": "markdown",
   "metadata": {},
   "source": [
    "### 2. Write a tokenization function to process your text data"
   ]
  },
  {
   "cell_type": "code",
   "execution_count": null,
   "metadata": {},
   "outputs": [],
   "source": [
    "def tokenize(text):\n",
    "\n",
    "    #Remove punctuation and convert to lower case\n",
    "    text = re.sub(r\"[^a-zA-Z0-9]\", \" \", text.lower())\n",
    "    \n",
    "    #Tokenize\n",
    "    tokens = word_tokenize(text)\n",
    "    \n",
    "    #Stem words\n",
    "    stemmer = PorterStemmer()\n",
    "    \n",
    "    #Remove stop words\n",
    "    stop_words_english = stopwords.words(\"english\")\n",
    "    \n",
    "    stemmed = [stemmer.stem(word) for word in tokens if word not in stop_words_english]\n",
    "    \n",
    "    return stemmed"
   ]
  },
  {
   "cell_type": "markdown",
   "metadata": {},
   "source": [
    "### 3. Build a machine learning pipeline\n",
    "This machine pipeline should take in the `message` column as input and output classification results on the other 36 categories in the dataset. You may find the [MultiOutputClassifier](http://scikit-learn.org/stable/modules/generated/sklearn.multioutput.MultiOutputClassifier.html) helpful for predicting multiple target variables."
   ]
  },
  {
   "cell_type": "code",
   "execution_count": 48,
   "metadata": {},
   "outputs": [],
   "source": [
    "pipeline = Pipeline([\n",
    "    ('vect', CountVectorizer(tokenizer = tokenize)),\n",
    "    ('tfidf', TfidfTransformer()),\n",
    "    ('clf', MultiOutputClassifier(RandomForestClassifier()))\n",
    "])"
   ]
  },
  {
   "cell_type": "markdown",
   "metadata": {},
   "source": [
    "### 4. Train pipeline\n",
    "- Split data into train and test sets\n",
    "- Train pipeline"
   ]
  },
  {
   "cell_type": "code",
   "execution_count": 49,
   "metadata": {},
   "outputs": [
    {
     "data": {
      "text/plain": [
       "Pipeline(memory=None,\n",
       "     steps=[('vect', CountVectorizer(analyzer='word', binary=False, decode_error='strict',\n",
       "        dtype=<class 'numpy.int64'>, encoding='utf-8', input='content',\n",
       "        lowercase=True, max_df=1.0, max_features=None, min_df=1,\n",
       "        ngram_range=(1, 1), preprocessor=None, stop_words=None,\n",
       "        strip...oob_score=False, random_state=None, verbose=0,\n",
       "            warm_start=False),\n",
       "           n_jobs=1))])"
      ]
     },
     "execution_count": 49,
     "metadata": {},
     "output_type": "execute_result"
    }
   ],
   "source": [
    "X_train, X_test, Y_train, Y_test = train_test_split(X, Y, random_state = RANDOM_STATE)\n",
    "\n",
    "np.random.seed(RANDOM_STATE)\n",
    "pipeline.fit(X_train, Y_train)"
   ]
  },
  {
   "cell_type": "markdown",
   "metadata": {},
   "source": [
    "### 5. Test your model\n",
    "Report the f1 score, precision and recall for each output category of the dataset. You can do this by iterating through the columns and calling sklearn's `classification_report` on each."
   ]
  },
  {
   "cell_type": "code",
   "execution_count": 50,
   "metadata": {},
   "outputs": [],
   "source": [
    "def get_eval_metrics(actual, predicted, col_names):\n",
    "\n",
    "    metrics = []\n",
    "    \n",
    "    # Calculate evaluation metrics for each set of labels\n",
    "    for i in range(len(col_names)):\n",
    "        accuracy = accuracy_score(actual[:, i], predicted[:, i])\n",
    "        precision = precision_score(actual[:, i], predicted[:, i], average = 'weighted')\n",
    "        recall = recall_score(actual[:, i], predicted[:, i], average = 'weighted')\n",
    "        f1 = f1_score(actual[:, i], predicted[:, i], average = 'weighted')\n",
    "        \n",
    "        metrics.append([accuracy, precision, recall, f1])\n",
    "    \n",
    "    # Create dataframe containing metrics\n",
    "    metrics = np.array(metrics)\n",
    "    metrics_df = pd.DataFrame(data = metrics, index = col_names, columns = ['Accuracy', 'Precision', 'Recall', 'F1'])\n",
    "      \n",
    "    return metrics_df"
   ]
  },
  {
   "cell_type": "code",
   "execution_count": 51,
   "metadata": {
    "scrolled": true
   },
   "outputs": [
    {
     "name": "stdout",
     "output_type": "stream",
     "text": [
      "                        Accuracy  Precision    Recall        F1\n",
      "related                 0.989523   0.989502  0.989523  0.989492\n",
      "request                 0.987489   0.987600  0.987489  0.987319\n",
      "offer                   0.998830   0.998832  0.998830  0.998739\n",
      "aid_related             0.986166   0.986282  0.986166  0.986144\n",
      "medical_help            0.988099   0.988251  0.988099  0.987651\n",
      "medical_products        0.991405   0.991470  0.991405  0.991019\n",
      "search_and_rescue       0.994304   0.994324  0.994304  0.994005\n",
      "security                0.996033   0.996034  0.996033  0.995799\n",
      "military                0.994863   0.994881  0.994863  0.994662\n",
      "child_alone             1.000000   1.000000  1.000000  1.000000\n",
      "water                   0.995982   0.995999  0.995982  0.995921\n",
      "food                    0.994711   0.994732  0.994711  0.994657\n",
      "shelter                 0.992422   0.992478  0.992422  0.992270\n",
      "clothing                0.997304   0.997301  0.997304  0.997184\n",
      "money                   0.995728   0.995746  0.995728  0.995523\n",
      "missing_people          0.996796   0.996806  0.996796  0.996538\n",
      "refugees                0.994914   0.994922  0.994914  0.994721\n",
      "death                   0.995016   0.995035  0.995016  0.994881\n",
      "other_aid               0.978537   0.978950  0.978537  0.977748\n",
      "infrastructure_related  0.987489   0.987600  0.987489  0.986895\n",
      "transport               0.990896   0.990955  0.990896  0.990426\n",
      "buildings               0.992320   0.992372  0.992320  0.992030\n",
      "electricity             0.996287   0.996301  0.996287  0.996096\n",
      "tools                   0.998322   0.998324  0.998322  0.998183\n",
      "hospitals               0.996847   0.996857  0.996847  0.996600\n",
      "shops                   0.998678   0.998679  0.998678  0.998575\n",
      "aid_centers             0.996796   0.996806  0.996796  0.996542\n",
      "other_infrastructure    0.989319   0.989438  0.989319  0.988614\n",
      "weather_related         0.987641   0.987775  0.987641  0.987567\n",
      "floods                  0.992168   0.992227  0.992168  0.991993\n",
      "storm                   0.994711   0.994697  0.994711  0.994662\n",
      "fire                    0.997915   0.997919  0.997915  0.997807\n",
      "earthquake              0.995219   0.995216  0.995219  0.995176\n",
      "cold                    0.996745   0.996756  0.996745  0.996602\n",
      "other_weather           0.990337   0.990422  0.990337  0.989881\n",
      "direct_report           0.981589   0.981941  0.981589  0.981247\n"
     ]
    }
   ],
   "source": [
    "Y_train_pred = pipeline.predict(X_train)\n",
    "col_names = list(Y.columns.values)\n",
    "\n",
    "print(get_eval_metrics(np.array(Y_train), Y_train_pred, col_names))"
   ]
  },
  {
   "cell_type": "code",
   "execution_count": 52,
   "metadata": {},
   "outputs": [
    {
     "name": "stdout",
     "output_type": "stream",
     "text": [
      "                        Accuracy  Precision    Recall        F1\n",
      "related                 0.798444   0.783640  0.798444  0.785854\n",
      "request                 0.884498   0.876817  0.884498  0.869840\n",
      "offer                   0.994965   0.989955  0.994965  0.992454\n",
      "aid_related             0.748703   0.746704  0.748703  0.744223\n",
      "medical_help            0.922032   0.902422  0.922032  0.895248\n",
      "medical_products        0.949344   0.937343  0.949344  0.928704\n",
      "search_and_rescue       0.975893   0.966536  0.975893  0.967239\n",
      "security                0.981538   0.967575  0.981538  0.973435\n",
      "military                0.969789   0.958416  0.969789  0.958824\n",
      "child_alone             1.000000   1.000000  1.000000  1.000000\n",
      "water                   0.949191   0.942809  0.949191  0.937164\n",
      "food                    0.936832   0.932604  0.936832  0.931130\n",
      "shelter                 0.931340   0.922983  0.931340  0.917749\n",
      "clothing                0.985810   0.982373  0.985810  0.980195\n",
      "money                   0.980775   0.981145  0.980775  0.972217\n",
      "missing_people          0.989014   0.989135  0.989014  0.983700\n",
      "refugees                0.967806   0.956431  0.967806  0.955883\n",
      "death                   0.959262   0.953213  0.959262  0.945157\n",
      "other_aid               0.867104   0.818383  0.867104  0.817304\n",
      "infrastructure_related  0.935612   0.896852  0.935612  0.908090\n",
      "transport               0.954684   0.939355  0.954684  0.937778\n",
      "buildings               0.953921   0.942551  0.953921  0.938676\n",
      "electricity             0.978486   0.974750  0.978486  0.969214\n",
      "tools                   0.993439   0.986921  0.993439  0.990169\n",
      "hospitals               0.991303   0.982983  0.991303  0.987125\n",
      "shops                   0.996338   0.992690  0.996338  0.994511\n",
      "aid_centers             0.987641   0.975435  0.987641  0.981500\n",
      "other_infrastructure    0.956515   0.926421  0.956515  0.935852\n",
      "weather_related         0.863137   0.859894  0.863137  0.856913\n",
      "floods                  0.936375   0.930375  0.936375  0.920055\n",
      "storm                   0.934086   0.926723  0.934086  0.927662\n",
      "fire                    0.990082   0.986449  0.990082  0.985845\n",
      "earthquake              0.959414   0.957218  0.959414  0.956585\n",
      "cold                    0.981843   0.979003  0.981843  0.976531\n",
      "other_weather           0.948734   0.926685  0.948734  0.927544\n",
      "direct_report           0.845590   0.833068  0.845590  0.819083\n"
     ]
    },
    {
     "name": "stderr",
     "output_type": "stream",
     "text": [
      "/opt/conda/lib/python3.6/site-packages/sklearn/metrics/classification.py:1135: UndefinedMetricWarning: Precision is ill-defined and being set to 0.0 in labels with no predicted samples.\n",
      "  'precision', 'predicted', average, warn_for)\n",
      "/opt/conda/lib/python3.6/site-packages/sklearn/metrics/classification.py:1135: UndefinedMetricWarning: F-score is ill-defined and being set to 0.0 in labels with no predicted samples.\n",
      "  'precision', 'predicted', average, warn_for)\n"
     ]
    }
   ],
   "source": [
    "Y_test_pred = pipeline.predict(X_test)\n",
    "\n",
    "print(get_eval_metrics(np.array(Y_test), Y_test_pred, col_names))"
   ]
  },
  {
   "cell_type": "markdown",
   "metadata": {},
   "source": [
    "### 6. Improve your model\n",
    "Use grid search to find better parameters. "
   ]
  },
  {
   "cell_type": "code",
   "execution_count": 53,
   "metadata": {},
   "outputs": [],
   "source": [
    "clf_parameters = {\n",
    "    'vect__ngram_range': [(1, 1), (1, 2)],\n",
    "    'tfidf__use_idf': (True, False),\n",
    "    'clf__estimator__n_estimators': [50, 100, 200],\n",
    "    'clf__estimator__min_samples_split': [2, 3, 4]\n",
    "}\n",
    "\n",
    "grid_search = GridSearchCV(pipeline, param_grid = clf_parameters, cv = 5, verbose = 2, n_jobs=-1)"
   ]
  },
  {
   "cell_type": "code",
   "execution_count": null,
   "metadata": {},
   "outputs": [
    {
     "name": "stdout",
     "output_type": "stream",
     "text": [
      "Fitting 5 folds for each of 36 candidates, totalling 180 fits\n",
      "[CV] clf__estimator__min_samples_split=2, clf__estimator__n_estimators=50, tfidf__use_idf=True, vect__ngram_range=(1, 1) \n",
      "[CV] clf__estimator__min_samples_split=2, clf__estimator__n_estimators=50, tfidf__use_idf=True, vect__ngram_range=(1, 1) \n",
      "[CV] clf__estimator__min_samples_split=2, clf__estimator__n_estimators=50, tfidf__use_idf=True, vect__ngram_range=(1, 1) \n",
      "[CV] clf__estimator__min_samples_split=2, clf__estimator__n_estimators=50, tfidf__use_idf=True, vect__ngram_range=(1, 1) \n",
      "[CV] clf__estimator__min_samples_split=2, clf__estimator__n_estimators=50, tfidf__use_idf=True, vect__ngram_range=(1, 1) \n",
      "[CV] clf__estimator__min_samples_split=2, clf__estimator__n_estimators=50, tfidf__use_idf=True, vect__ngram_range=(1, 2) \n",
      "[CV] clf__estimator__min_samples_split=2, clf__estimator__n_estimators=50, tfidf__use_idf=True, vect__ngram_range=(1, 2) \n",
      "[CV] clf__estimator__min_samples_split=2, clf__estimator__n_estimators=50, tfidf__use_idf=True, vect__ngram_range=(1, 2) \n",
      "[CV] clf__estimator__min_samples_split=2, clf__estimator__n_estimators=50, tfidf__use_idf=True, vect__ngram_range=(1, 2) \n",
      "[CV] clf__estimator__min_samples_split=2, clf__estimator__n_estimators=50, tfidf__use_idf=True, vect__ngram_range=(1, 2) \n",
      "[CV] clf__estimator__min_samples_split=2, clf__estimator__n_estimators=50, tfidf__use_idf=False, vect__ngram_range=(1, 1) \n",
      "[CV] clf__estimator__min_samples_split=2, clf__estimator__n_estimators=50, tfidf__use_idf=False, vect__ngram_range=(1, 1) \n",
      "[CV] clf__estimator__min_samples_split=2, clf__estimator__n_estimators=50, tfidf__use_idf=False, vect__ngram_range=(1, 1) \n",
      "[CV] clf__estimator__min_samples_split=2, clf__estimator__n_estimators=50, tfidf__use_idf=False, vect__ngram_range=(1, 1) \n",
      "[CV] clf__estimator__min_samples_split=2, clf__estimator__n_estimators=50, tfidf__use_idf=False, vect__ngram_range=(1, 1) \n",
      "[CV] clf__estimator__min_samples_split=2, clf__estimator__n_estimators=50, tfidf__use_idf=False, vect__ngram_range=(1, 2) \n"
     ]
    }
   ],
   "source": [
    "grid_search.fit(X_train, Y_train)"
   ]
  },
  {
   "cell_type": "code",
   "execution_count": null,
   "metadata": {},
   "outputs": [],
   "source": [
    "best_params = grid_search.best_params_"
   ]
  },
  {
   "cell_type": "code",
   "execution_count": null,
   "metadata": {},
   "outputs": [],
   "source": [
    "best_estimator = grid_search.best_estimator_"
   ]
  },
  {
   "cell_type": "markdown",
   "metadata": {},
   "source": [
    "### 7. Test your model\n",
    "Show the accuracy, precision, and recall of the tuned model.  \n",
    "\n",
    "Since this project focuses on code quality, process, and  pipelines, there is no minimum performance metric needed to pass. However, make sure to fine tune your models for accuracy, precision and recall to make your project stand out - especially for your portfolio!"
   ]
  },
  {
   "cell_type": "code",
   "execution_count": null,
   "metadata": {},
   "outputs": [],
   "source": [
    "Y_pred_tuned = best_estimator.predict(X_test)\n",
    "\n",
    "print((np.array(Y_test), Y_pred_tuned, col_names))"
   ]
  },
  {
   "cell_type": "markdown",
   "metadata": {},
   "source": [
    "### 8. Try improving your model further. Here are a few ideas:\n",
    "* try other machine learning algorithms\n",
    "* add other features besides the TF-IDF"
   ]
  },
  {
   "cell_type": "markdown",
   "metadata": {},
   "source": [
    "We will include both the word and its n-grams in the pipeline and use a linear SVC model"
   ]
  },
  {
   "cell_type": "code",
   "execution_count": null,
   "metadata": {},
   "outputs": [],
   "source": [
    "# Define a custom transformer to extract character n-grams\n",
    "class CharacterNGramExtractor(BaseEstimator, TransformerMixin):\n",
    "    def __init__(self, ngram_range=(2, 5)):\n",
    "        self.ngram_range = ngram_range\n",
    "\n",
    "    def fit(self, X, y=None):\n",
    "        return self\n",
    "\n",
    "    def transform(self, X):\n",
    "        char_vectorizer = CountVectorizer(analyzer='char', ngram_range=self.ngram_range)\n",
    "        return char_vectorizer.fit_transform(X)\n",
    "\n",
    "# Create a new pipeline\n",
    "pipeline_improved = Pipeline([\n",
    "    ('features', FeatureUnion([\n",
    "        ('word_ngrams', Pipeline([\n",
    "            ('vect', CountVectorizer(tokenizer=tokenize)),\n",
    "            ('tfidf', TfidfTransformer())\n",
    "        ])),\n",
    "        ('char_ngrams', Pipeline([\n",
    "            ('char_vect', CharacterNGramExtractor()),\n",
    "            ('tfidf', TfidfTransformer())\n",
    "        ]))\n",
    "    ])),\n",
    "    ('clf', MultiOutputClassifier(LinearSVC()))\n",
    "])\n",
    "\n",
    "# Define the parameter grid for GridSearchCV\n",
    "param_grid = {\n",
    "    'features__word_ngrams__vect__ngram_range': [(1, 1), (1, 2)],\n",
    "    'features__word_ngrams__tfidf__use_idf': (True, False),\n",
    "    'features__char_ngrams__char_vect__ngram_range': [(2, 4), (2, 5)],\n",
    "    'clf__estimator__C': [0.1, 1, 10],\n",
    "}\n",
    "\n",
    "# Create the GridSearchCV instance with cross-validation settings\n",
    "grid_search_improved = GridSearchCV(pipeline_improved, param_grid, cv=5, verbose=2, n_jobs=-1)\n"
   ]
  },
  {
   "cell_type": "code",
   "execution_count": null,
   "metadata": {},
   "outputs": [],
   "source": [
    "grid_search_improved.fit(X_train, y_train)"
   ]
  },
  {
   "cell_type": "code",
   "execution_count": null,
   "metadata": {},
   "outputs": [],
   "source": [
    "best_params_improved = grid_search_improved.best_params_"
   ]
  },
  {
   "cell_type": "code",
   "execution_count": null,
   "metadata": {},
   "outputs": [],
   "source": [
    "best_estimator_improved = grid_search_improved.best_estimator_"
   ]
  },
  {
   "cell_type": "code",
   "execution_count": null,
   "metadata": {},
   "outputs": [],
   "source": [
    "Y_pred_improved = best_estimator_improved.predict(X_test)\n",
    "\n",
    "print((np.array(Y_test), Y_pred_improved, col_names))"
   ]
  },
  {
   "cell_type": "markdown",
   "metadata": {},
   "source": [
    "### 9. Export your model as a pickle file"
   ]
  },
  {
   "cell_type": "code",
   "execution_count": null,
   "metadata": {},
   "outputs": [],
   "source": [
    "with open('best_model.pkl', 'wb') as file:\n",
    "    pickle.dump(best_estimator_improved, file)"
   ]
  },
  {
   "cell_type": "markdown",
   "metadata": {},
   "source": [
    "### 10. Use this notebook to complete `train.py`\n",
    "Use the template file attached in the Resources folder to write a script that runs the steps above to create a database and export a model based on a new dataset specified by the user."
   ]
  },
  {
   "cell_type": "code",
   "execution_count": null,
   "metadata": {},
   "outputs": [],
   "source": []
  }
 ],
 "metadata": {
  "kernelspec": {
   "display_name": "Python 3",
   "language": "python",
   "name": "python3"
  },
  "language_info": {
   "codemirror_mode": {
    "name": "ipython",
    "version": 3
   },
   "file_extension": ".py",
   "mimetype": "text/x-python",
   "name": "python",
   "nbconvert_exporter": "python",
   "pygments_lexer": "ipython3",
   "version": "3.6.3"
  }
 },
 "nbformat": 4,
 "nbformat_minor": 2
}
